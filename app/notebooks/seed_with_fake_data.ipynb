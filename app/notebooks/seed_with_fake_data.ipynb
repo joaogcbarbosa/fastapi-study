{
 "cells": [
  {
   "cell_type": "code",
   "execution_count": null,
   "metadata": {},
   "outputs": [],
   "source": [
    "from sqlalchemy import create_engine, text\n",
    "from dotenv import load_dotenv\n",
    "import os\n",
    "from faker import Faker\n",
    "from passlib.context import CryptContext\n",
    "from random import randint\n",
    "\n",
    "load_dotenv()\n",
    "\n",
    "MSSQL_USER = os.getenv(\"MSSQL_USER\")\n",
    "MSSQL_PASSWD = os.getenv(\"MSSQL_PASSWD\")\n",
    "MSSQL_HOST = os.getenv(\"MSSQL_HOST\")\n",
    "MSSQL_PORT = os.getenv(\"MSSQL_PORT\")\n",
    "\n",
    "bcrypt = CryptContext(schemes=[\"bcrypt\"], deprecated=\"auto\")\n",
    "\n",
    "engine = create_engine(f\"mssql+pymssql://{MSSQL_USER}:{MSSQL_PASSWD}@{MSSQL_HOST}:{MSSQL_PORT}/todos\")\n",
    "engine"
   ]
  },
  {
   "cell_type": "code",
   "execution_count": null,
   "metadata": {},
   "outputs": [],
   "source": [
    "faker = Faker(\"pt_BR\")"
   ]
  },
  {
   "cell_type": "code",
   "execution_count": null,
   "metadata": {},
   "outputs": [],
   "source": [
    "# setting ansi warnings off to allow truncated strings to be inserted because some faker methods don't have max lenght parameter"
   ]
  },
  {
   "cell_type": "code",
   "execution_count": null,
   "metadata": {},
   "outputs": [],
   "source": [
    "# SEED USERS' TABLE\n",
    "with engine.begin() as conn:\n",
    "    query = \"SET ANSI_WARNINGS OFF;\\nINSERT INTO [todos].[dbo].[users] VALUES\\n\"\n",
    "    for i in range(1, 101):  # 100 users\n",
    "        if i % 10 != 0:\n",
    "            query += f\"({i}, '{faker.email()}', '{faker.user_name()}', '{faker.first_name()}', '{faker.last_name()}', '{bcrypt.hash(faker.password())}', {randint(0, 1)}, '{faker.job()}', '{faker.phone_number()}'),\\n\"\n",
    "        else:\n",
    "            query += f\"({i}, '{faker.email()}', '{faker.user_name()}', '{faker.first_name()}', '{faker.last_name()}', '{bcrypt.hash(faker.password())}', {randint(0, 1)}, '{faker.job()}', '{faker.phone_number()}'),\\n\"\n",
    "            query = query[:-2] + \";\\n\" + \"SET ANSI_WARNINGS ON;\\n\"\n",
    "            conn.execute(text(query))\n",
    "            query = \"SET ANSI_WARNINGS OFF;\\nINSERT INTO [todos].[dbo].[users] VALUES\\n\"\n",
    "            "
   ]
  },
  {
   "cell_type": "code",
   "execution_count": null,
   "metadata": {},
   "outputs": [],
   "source": [
    "# SEED TODOS' TABLE\n",
    "with engine.begin() as conn:\n",
    "    query = \"SET ANSI_WARNINGS OFF;\\nINSERT INTO [todos].[dbo].[todos] VALUES\\n\"\n",
    "    c = 1\n",
    "    for i in range(1, 101):  # 100 users\n",
    "        if i % 10 != 0:\n",
    "            for _ in range(3):  # 3 todos for each user\n",
    "                query += f\"({c}, '{faker.sentence(nb_words=3)}', '{faker.sentence(nb_words=5)}', {randint(1, 5)}, {randint(0, 1)}, {i}),\\n\"\n",
    "                c += 1\n",
    "        else:\n",
    "            for _ in range(3):\n",
    "                query += f\"({c}, '{faker.sentence(nb_words=3)}', '{faker.sentence(nb_words=5)}', {randint(1, 5)}, {randint(0, 1)}, {i}),\\n\"\n",
    "                c += 1\n",
    "            query = query[:-2] + \";\\n\" + \"SET ANSI_WARNINGS ON;\\n\"\n",
    "            conn.execute(text(query))\n",
    "            query = \"SET ANSI_WARNINGS OFF;\\nINSERT INTO [todos].[dbo].[todos] VALUES\\n\""
   ]
  },
  {
   "cell_type": "code",
   "execution_count": null,
   "metadata": {},
   "outputs": [],
   "source": [
    "# insert test user\n",
    "with engine.begin() as conn:\n",
    "    query = f\"\"\"\n",
    "    INSERT INTO [todos].[dbo].[users] VALUES\n",
    "    (101, 'dev@user.com', 'testuser', 'test', 'user', '{bcrypt.hash(\"testpass\")}', 1, 'tester', '99999999999')\n",
    "    \"\"\"\n",
    "    conn.execute(text(query))"
   ]
  }
 ],
 "metadata": {
  "kernelspec": {
   "display_name": "fastapi-study",
   "language": "python",
   "name": "python3"
  },
  "language_info": {
   "codemirror_mode": {
    "name": "ipython",
    "version": 3
   },
   "file_extension": ".py",
   "mimetype": "text/x-python",
   "name": "python",
   "nbconvert_exporter": "python",
   "pygments_lexer": "ipython3",
   "version": "3.11.7"
  }
 },
 "nbformat": 4,
 "nbformat_minor": 2
}

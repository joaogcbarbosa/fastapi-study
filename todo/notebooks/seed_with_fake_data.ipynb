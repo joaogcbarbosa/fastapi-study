{
 "cells": [
  {
   "cell_type": "code",
   "execution_count": null,
   "metadata": {},
   "outputs": [],
   "source": [
    "from sqlalchemy import create_engine, text\n",
    "from dotenv import load_dotenv\n",
    "import os\n",
    "from faker import Faker\n",
    "from passlib.context import CryptContext\n",
    "from random import randint\n",
    "\n",
    "load_dotenv()\n",
    "\n",
    "MSSQL_USER = os.getenv(\"MSSQL_USER\")\n",
    "MSSQL_PASSWD = os.getenv(\"MSSQL_PASSWD\")\n",
    "MSSQL_HOST = os.getenv(\"MSSQL_HOST\")\n",
    "MSSQL_PORT = os.getenv(\"MSSQL_PORT\")\n",
    "\n",
    "bcrypt = CryptContext(schemes=[\"bcrypt\"], deprecated=\"auto\")\n",
    "\n",
    "engine = create_engine(f\"mssql+pymssql://{MSSQL_USER}:{MSSQL_PASSWD}@{MSSQL_HOST}:{MSSQL_PORT}/todos\")\n",
    "engine"
   ]
  },
  {
   "cell_type": "code",
   "execution_count": null,
   "metadata": {},
   "outputs": [],
   "source": [
    "with engine.begin() as conn:\n",
    "    query = \"SELECT * FROM todos\"\n",
    "    rst = conn.execute(text(query)).all()\n",
    "rst"
   ]
  },
  {
   "cell_type": "code",
   "execution_count": null,
   "metadata": {},
   "outputs": [],
   "source": [
    "faker = Faker(\"pt_BR\")"
   ]
  },
  {
   "cell_type": "code",
   "execution_count": null,
   "metadata": {},
   "outputs": [],
   "source": [
    "# setting ansi warnings off to allow truncated strings to be inserted because some faker methods don't have max lenght parameter\n",
    "\n",
    "with engine.begin() as conn:\n",
    "    query = \"SET ANSI_WARNINGS OFF;\\nINSERT INTO [todos].[dbo].[users] VALUES\\n\"\n",
    "    for i in range(1, 101):\n",
    "        if i % 10 != 0:\n",
    "            query += f\"({i}, '{faker.email()}', '{faker.user_name()}', '{faker.first_name()}', '{faker.last_name()}', '{bcrypt.hash(faker.password())}', {randint(0, 1)}, '{faker.job()}', '{faker.phone_number()}'),\\n\"\n",
    "        else:\n",
    "            query += f\"({i}, '{faker.email()}', '{faker.user_name()}', '{faker.first_name()}', '{faker.last_name()}', '{bcrypt.hash(faker.password())}', {randint(0, 1)}, '{faker.job()}', '{faker.phone_number()}'),\\n\"\n",
    "            query = query[:-2] + \";\\n\" + \"SET ANSI_WARNINGS ON;\\n\"\n",
    "            conn.execute(text(query))\n",
    "            query = \"SET ANSI_WARNINGS OFF;\\nINSERT INTO [todos].[dbo].[users] VALUES\\n\"\n",
    "            "
   ]
  }
 ],
 "metadata": {
  "kernelspec": {
   "display_name": "fastapi-study",
   "language": "python",
   "name": "python3"
  },
  "language_info": {
   "codemirror_mode": {
    "name": "ipython",
    "version": 3
   },
   "file_extension": ".py",
   "mimetype": "text/x-python",
   "name": "python",
   "nbconvert_exporter": "python",
   "pygments_lexer": "ipython3",
   "version": "3.11.7"
  }
 },
 "nbformat": 4,
 "nbformat_minor": 2
}
